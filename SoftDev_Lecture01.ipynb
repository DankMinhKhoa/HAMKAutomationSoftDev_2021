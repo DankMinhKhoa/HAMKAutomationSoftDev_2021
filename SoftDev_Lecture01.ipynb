{
  "nbformat": 4,
  "nbformat_minor": 0,
  "metadata": {
    "colab": {
      "name": "SoftDev_Lecture01.ipynb",
      "provenance": [],
      "collapsed_sections": [],
      "authorship_tag": "ABX9TyNDKpM3aIXKeG3YFpwyXWc2",
      "include_colab_link": true
    },
    "kernelspec": {
      "name": "python3",
      "display_name": "Python 3"
    }
  },
  "cells": [
    {
      "cell_type": "markdown",
      "metadata": {
        "id": "view-in-github",
        "colab_type": "text"
      },
      "source": [
        "<a href=\"https://colab.research.google.com/github/DankMinhKhoa/HAMKAutomationSoftDev_2021/blob/main/SoftDev_Lecture01.ipynb\" target=\"_parent\"><img src=\"https://colab.research.google.com/assets/colab-badge.svg\" alt=\"Open In Colab\"/></a>"
      ]
    },
    {
      "cell_type": "markdown",
      "metadata": {
        "id": "PBgNro8ZlcDQ"
      },
      "source": [
        "# Python \"hello world\" and variables"
      ]
    },
    {
      "cell_type": "markdown",
      "metadata": {
        "id": "tAzUtSGFlvLH"
      },
      "source": [
        "Printing, or terminal (standard I/O) is often simply: "
      ]
    },
    {
      "cell_type": "code",
      "metadata": {
        "colab": {
          "base_uri": "https://localhost:8080/"
        },
        "id": "Fr57ro_Dlhkx",
        "outputId": "5cfab19b-49dd-4795-f376-4f83c4d49722"
      },
      "source": [
        "print(\"Hello world\")"
      ],
      "execution_count": null,
      "outputs": [
        {
          "output_type": "stream",
          "text": [
            "Hello world\n"
          ],
          "name": "stdout"
        }
      ]
    },
    {
      "cell_type": "markdown",
      "metadata": {
        "id": "DUW7EpW3l9w4"
      },
      "source": [
        "Input is simply done with \r\n",
        "\r\n",
        "```\r\n",
        "variable = input(prompt)\r\n",
        "```\r\n",
        "\r\n",
        "String formatting is also rather straight forward. "
      ]
    },
    {
      "cell_type": "code",
      "metadata": {
        "colab": {
          "base_uri": "https://localhost:8080/",
          "height": 214
        },
        "id": "E5b3sBLslstJ",
        "outputId": "dbcb2214-e54f-4741-e3a0-a518ce1ea38a"
      },
      "source": [
        "val = input(\"Enter your value: \") \r\n",
        "print(\"You entered: {2d}, plus one is : {2d}, plus 10 is: {2d}\"\r\n",
        ".format(val,val+1,val+10))"
      ],
      "execution_count": null,
      "outputs": [
        {
          "output_type": "stream",
          "text": [
            "Enter your value: 1\n"
          ],
          "name": "stdout"
        },
        {
          "output_type": "error",
          "ename": "TypeError",
          "evalue": "ignored",
          "traceback": [
            "\u001b[0;31m---------------------------------------------------------------------------\u001b[0m",
            "\u001b[0;31mTypeError\u001b[0m                                 Traceback (most recent call last)",
            "\u001b[0;32m<ipython-input-13-bdcce6cd2726>\u001b[0m in \u001b[0;36m<module>\u001b[0;34m()\u001b[0m\n\u001b[1;32m      1\u001b[0m \u001b[0mval\u001b[0m \u001b[0;34m=\u001b[0m \u001b[0minput\u001b[0m\u001b[0;34m(\u001b[0m\u001b[0;34m\"Enter your value: \"\u001b[0m\u001b[0;34m)\u001b[0m\u001b[0;34m\u001b[0m\u001b[0;34m\u001b[0m\u001b[0m\n\u001b[1;32m      2\u001b[0m print(\"You entered: {2d}, plus one is : {2d}, plus 10 is: {2d}\"\n\u001b[0;32m----> 3\u001b[0;31m .format(val,val+1,val+10))\n\u001b[0m",
            "\u001b[0;31mTypeError\u001b[0m: can only concatenate str (not \"int\") to str"
          ]
        }
      ]
    }
  ]
}
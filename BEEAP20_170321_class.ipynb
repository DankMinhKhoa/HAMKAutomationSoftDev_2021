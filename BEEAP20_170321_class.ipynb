{
  "nbformat": 4,
  "nbformat_minor": 0,
  "metadata": {
    "colab": {
      "name": "BEEAP20_170321_class.ipynb",
      "provenance": [],
      "collapsed_sections": [],
      "authorship_tag": "ABX9TyMeIhR+SdiK51iN3QOhnfwQ",
      "include_colab_link": true
    },
    "kernelspec": {
      "name": "python3",
      "display_name": "Python 3"
    }
  },
  "cells": [
    {
      "cell_type": "markdown",
      "metadata": {
        "id": "view-in-github",
        "colab_type": "text"
      },
      "source": [
        "<a href=\"https://colab.research.google.com/github/DankMinhKhoa/HAMKAutomationSoftDev_2021/blob/main/BEEAP20_170321_class.ipynb\" target=\"_parent\"><img src=\"https://colab.research.google.com/assets/colab-badge.svg\" alt=\"Open In Colab\"/></a>"
      ]
    },
    {
      "cell_type": "markdown",
      "metadata": {
        "id": "En7QFa-D_i4u"
      },
      "source": [
        "This is an infinite sum: $\\sum_{i=1}^{\\infty} \\frac{1}{2^i} = 1$"
      ]
    },
    {
      "cell_type": "code",
      "metadata": {
        "colab": {
          "base_uri": "https://localhost:8080/"
        },
        "id": "fqW7e7UX9xOU",
        "outputId": "5489b955-f936-483e-af18-a6db13920470"
      },
      "source": [
        "print(\"hello world\")"
      ],
      "execution_count": 2,
      "outputs": [
        {
          "output_type": "stream",
          "text": [
            "hello world\n"
          ],
          "name": "stdout"
        }
      ]
    },
    {
      "cell_type": "code",
      "metadata": {
        "colab": {
          "base_uri": "https://localhost:8080/"
        },
        "id": "ahc_MrFvDeub",
        "outputId": "08b27939-c815-4eee-ebff-f6fd91badfae"
      },
      "source": [
        "'''\r\n",
        "\r\n",
        "'''\r\n",
        "varName=input(\"Give me your name: \")\r\n",
        "print(\"Hello, \", varName)"
      ],
      "execution_count": 4,
      "outputs": [
        {
          "output_type": "stream",
          "text": [
            "Give me your name: khoa\n",
            "Hello,  khoa\n"
          ],
          "name": "stdout"
        }
      ]
    },
    {
      "cell_type": "code",
      "metadata": {
        "colab": {
          "base_uri": "https://localhost:8080/"
        },
        "id": "RYiOPtpMEFmC",
        "outputId": "e3a62f4e-9968-4100-9d23-1e25be3cd09a"
      },
      "source": [
        "# add two numbers, input from kb example\r\n",
        "var1 = int(input(\"Input the first number: \")) # this is a string\r\n",
        "var2 = int(input(\"Input the second number: \")) # this is also a string\r\n",
        "print(\"var1 is a \", type(var1))\r\n",
        "print(\"var2 is a \", type(var2))\r\n",
        "# string + string = concatenate\r\n",
        "print(\"Sum of two number is \", int(var1)+int(var2))"
      ],
      "execution_count": 19,
      "outputs": [
        {
          "output_type": "stream",
          "text": [
            "Input the first number: 1\n",
            "Input the second number: 2\n",
            "var1 is a  <class 'int'>\n",
            "var2 is a  <class 'int'>\n",
            "Sum of two number is  3\n"
          ],
          "name": "stdout"
        }
      ]
    },
    {
      "cell_type": "code",
      "metadata": {
        "colab": {
          "base_uri": "https://localhost:8080/"
        },
        "id": "LpwTjSGuGsSm",
        "outputId": "b79488d4-e21f-41c0-df55-816a18d9834d"
      },
      "source": [
        "# for(int i = 0; i < 3; i++)\r\n",
        "for i in range(3):\r\n",
        "  print(\"Hello!\")\r\n",
        "\r\n",
        "print(\"Bye!\")"
      ],
      "execution_count": 13,
      "outputs": [
        {
          "output_type": "stream",
          "text": [
            "Hello!\n",
            "Hello!\n",
            "Hello!\n",
            "Bye!\n"
          ],
          "name": "stdout"
        }
      ]
    },
    {
      "cell_type": "code",
      "metadata": {
        "colab": {
          "base_uri": "https://localhost:8080/"
        },
        "id": "tiI1W_RJIM6G",
        "outputId": "a3397dc4-496d-472e-eb0f-8d83a062e808"
      },
      "source": [
        "import numpy as np\r\n",
        "from numpy import cos\r\n",
        "\r\n",
        "cos(0)\r\n",
        "np.sin(0)"
      ],
      "execution_count": 5,
      "outputs": [
        {
          "output_type": "execute_result",
          "data": {
            "text/plain": [
              "0.0"
            ]
          },
          "metadata": {
            "tags": []
          },
          "execution_count": 5
        }
      ]
    },
    {
      "cell_type": "code",
      "metadata": {
        "colab": {
          "base_uri": "https://localhost:8080/"
        },
        "id": "unpfTrPuP7HV",
        "outputId": "fcd6f036-10b8-4a48-c490-9d1cdfb5c2b4"
      },
      "source": [
        "list0 = [\"win\", 1, 3.1415926535]\r\n",
        "\r\n",
        "for i in list0:\r\n",
        "  print(i)"
      ],
      "execution_count": 7,
      "outputs": [
        {
          "output_type": "stream",
          "text": [
            "win\n",
            "1\n",
            "3.1415926535\n"
          ],
          "name": "stdout"
        }
      ]
    },
    {
      "cell_type": "code",
      "metadata": {
        "colab": {
          "base_uri": "https://localhost:8080/"
        },
        "id": "6-kdnyFDRG1c",
        "outputId": "6a816744-ac7b-4ef8-b0d7-b0f9b9fb7dbc"
      },
      "source": [
        "dict0 = {\r\n",
        "    \"name\": \"John\",\r\n",
        "    \"age\": 36,\r\n",
        "    \"Name\": \"doe\"\r\n",
        "}\r\n",
        "\r\n",
        "dict1 = {\r\n",
        "    \"age\": 36,\r\n",
        "    \"name\": \"John\"\r\n",
        "}\r\n",
        "\r\n",
        "print(dict0)\r\n",
        "print(dict0[\"name\"])\r\n"
      ],
      "execution_count": 12,
      "outputs": [
        {
          "output_type": "stream",
          "text": [
            "{'name': 'John', 'age': 36, 'Name': 'doe'}\n",
            "John\n"
          ],
          "name": "stdout"
        }
      ]
    },
    {
      "cell_type": "code",
      "metadata": {
        "colab": {
          "base_uri": "https://localhost:8080/"
        },
        "id": "Gh5omUOdSoU2",
        "outputId": "ad4e241c-843c-44f4-c753-b4dcd593aeed"
      },
      "source": [
        "L=[1,2,98,5,-1,2,0,5,10] # this a list of int\r\n",
        "\r\n",
        "counter = 0\r\n",
        "\r\n",
        "for i, x in enumerate(L):\r\n",
        "    if x == 5:\r\n",
        "        counter += 1\r\n",
        "        if counter == 2:\r\n",
        "            break\r\n",
        "            \r\n",
        "print(i)"
      ],
      "execution_count": 13,
      "outputs": [
        {
          "output_type": "stream",
          "text": [
            "7\n"
          ],
          "name": "stdout"
        }
      ]
    },
    {
      "cell_type": "code",
      "metadata": {
        "colab": {
          "base_uri": "https://localhost:8080/"
        },
        "id": "jZe5CfdLTKc8",
        "outputId": "ea57355d-1967-4596-c7a6-e9cb50599fa9"
      },
      "source": [
        "L=[1,2,98,5,-1,2,0,5,10] # this a list of int\r\n",
        "\r\n",
        "print(L)\r\n",
        "\r\n",
        "L.append(100)\r\n",
        "       \r\n",
        "print(L)"
      ],
      "execution_count": 51,
      "outputs": [
        {
          "output_type": "stream",
          "text": [
            "[1, 2, 98, 5, -1, 2, 0, 5, 10]\n",
            "[1, 2, 98, 5, -1, 2, 0, 5, 10, 100]\n"
          ],
          "name": "stdout"
        }
      ]
    },
    {
      "cell_type": "code",
      "metadata": {
        "colab": {
          "base_uri": "https://localhost:8080/"
        },
        "id": "K6xODodWUy4V",
        "outputId": "91680c86-316b-4f50-dc32-96db70f1ecf9"
      },
      "source": [
        "def timesTwo(n):\r\n",
        "  multiplier = 2\r\n",
        "  return n*multiplier\r\n",
        "\r\n",
        "def multiplySomething(number, multiplier = 1):\r\n",
        "  return number*multiplier\r\n",
        "\r\n",
        "print(multiplySomething(number=10))\r\n"
      ],
      "execution_count": 50,
      "outputs": [
        {
          "output_type": "stream",
          "text": [
            "10\n"
          ],
          "name": "stdout"
        }
      ]
    },
    {
      "cell_type": "code",
      "metadata": {
        "colab": {
          "base_uri": "https://localhost:8080/"
        },
        "id": "F-sVEVPQWXVm",
        "outputId": "f3a1ef92-0484-423d-bd38-805190cbfa89"
      },
      "source": [
        "dict0 = {\r\n",
        "    \"name\": {\"John\", \"Cena\"},\r\n",
        "    \"age\": [36, 37, 38, 39],\r\n",
        "    \"surName\": \"doe\",\r\n",
        "    \"occupation\": \"Welder\"\r\n",
        "}\r\n",
        "\r\n",
        "for k in dict0.keys():\r\n",
        "  print(k,\" : \", dict0[k])\r\n",
        "  print(type(dict0[k]))\r\n",
        "\r\n",
        "newList = [dict0[\"name\"], dict0[\"age\"]]\r\n",
        "print(newList)"
      ],
      "execution_count": 26,
      "outputs": [
        {
          "output_type": "stream",
          "text": [
            "name  :  {'Cena', 'John'}\n",
            "<class 'set'>\n",
            "age  :  [36, 37, 38, 39]\n",
            "<class 'list'>\n",
            "surName  :  doe\n",
            "<class 'str'>\n",
            "occupation  :  Welder\n",
            "<class 'str'>\n",
            "[{'Cena', 'John'}, [36, 37, 38, 39]]\n"
          ],
          "name": "stdout"
        }
      ]
    },
    {
      "cell_type": "code",
      "metadata": {
        "colab": {
          "base_uri": "https://localhost:8080/"
        },
        "id": "oxcn1iy-aBSA",
        "outputId": "ff687faf-b00d-4007-f666-edd3c047f975"
      },
      "source": [
        "print(list(range(6)))"
      ],
      "execution_count": 35,
      "outputs": [
        {
          "output_type": "stream",
          "text": [
            "[0, 1, 2, 3, 4, 5]\n"
          ],
          "name": "stdout"
        }
      ]
    },
    {
      "cell_type": "code",
      "metadata": {
        "colab": {
          "base_uri": "https://localhost:8080/"
        },
        "id": "Z6M4QmzdczX6",
        "outputId": "9c81018d-445b-47a5-dac3-bcc22ea9a4f3"
      },
      "source": [
        "def my_function(*kids):\r\n",
        "  print(\"The youngest child is \" + kids[-1])\r\n",
        "\r\n",
        "my_function(\"Emil\", \"Tobias\", \"Antti\", \"Timo\", \"Linus\")"
      ],
      "execution_count": 47,
      "outputs": [
        {
          "output_type": "stream",
          "text": [
            "The youngest child is Linus\n"
          ],
          "name": "stdout"
        }
      ]
    }
  ]
}